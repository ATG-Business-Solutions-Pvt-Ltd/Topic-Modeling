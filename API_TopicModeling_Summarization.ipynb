{
  "cells": [
    {
      "cell_type": "code",
      "execution_count": 1,
      "metadata": {
        "colab": {
          "base_uri": "https://localhost:8080/"
        },
        "id": "Ta4XJLyzCGja",
        "outputId": "7e5091c9-5362-4dbf-c3c1-d0f0128d8687"
      },
      "outputs": [
        {
          "output_type": "stream",
          "name": "stdout",
          "text": [
            "Collecting PyPDF2\n",
            "  Downloading pypdf2-3.0.1-py3-none-any.whl (232 kB)\n",
            "\u001b[?25l     \u001b[90m━━━━━━━━━━━━━━━━━━━━━━━━━━━━━━━━━━━━━━━━\u001b[0m \u001b[32m0.0/232.6 kB\u001b[0m \u001b[31m?\u001b[0m eta \u001b[36m-:--:--\u001b[0m\r\u001b[2K     \u001b[91m━━━━━━━━━━━━━━━━━━━━━━━━━━━━━━━━━━━━━━\u001b[0m\u001b[91m╸\u001b[0m\u001b[90m━\u001b[0m \u001b[32m225.3/232.6 kB\u001b[0m \u001b[31m6.8 MB/s\u001b[0m eta \u001b[36m0:00:01\u001b[0m\r\u001b[2K     \u001b[90m━━━━━━━━━━━━━━━━━━━━━━━━━━━━━━━━━━━━━━━━\u001b[0m \u001b[32m232.6/232.6 kB\u001b[0m \u001b[31m5.4 MB/s\u001b[0m eta \u001b[36m0:00:00\u001b[0m\n",
            "\u001b[?25hInstalling collected packages: PyPDF2\n",
            "Successfully installed PyPDF2-3.0.1\n"
          ]
        }
      ],
      "source": [
        "pip install PyPDF2\n"
      ]
    },
    {
      "cell_type": "code",
      "source": [
        "pip install fpdf"
      ],
      "metadata": {
        "colab": {
          "base_uri": "https://localhost:8080/"
        },
        "id": "Nc__CgbDv5HN",
        "outputId": "90721837-416d-4998-bd31-868261c5567f"
      },
      "execution_count": 2,
      "outputs": [
        {
          "output_type": "stream",
          "name": "stdout",
          "text": [
            "Collecting fpdf\n",
            "  Downloading fpdf-1.7.2.tar.gz (39 kB)\n",
            "  Preparing metadata (setup.py) ... \u001b[?25l\u001b[?25hdone\n",
            "Building wheels for collected packages: fpdf\n",
            "  Building wheel for fpdf (setup.py) ... \u001b[?25l\u001b[?25hdone\n",
            "  Created wheel for fpdf: filename=fpdf-1.7.2-py2.py3-none-any.whl size=40703 sha256=f21bddeff5790ebf40e734902bc7df4263401a0a18d803a3a35cd97ed626f3ad\n",
            "  Stored in directory: /root/.cache/pip/wheels/f9/95/ba/f418094659025eb9611f17cbcaf2334236bf39a0c3453ea455\n",
            "Successfully built fpdf\n",
            "Installing collected packages: fpdf\n",
            "Successfully installed fpdf-1.7.2\n"
          ]
        }
      ]
    },
    {
      "cell_type": "code",
      "source": [
        "pip install mglearn"
      ],
      "metadata": {
        "colab": {
          "base_uri": "https://localhost:8080/"
        },
        "id": "bf4y7MQq3rHr",
        "outputId": "6532101c-96e0-4f99-a661-87ca8a0b839b"
      },
      "execution_count": 3,
      "outputs": [
        {
          "output_type": "stream",
          "name": "stdout",
          "text": [
            "Collecting mglearn\n",
            "  Downloading mglearn-0.2.0-py2.py3-none-any.whl (581 kB)\n",
            "\u001b[?25l     \u001b[90m━━━━━━━━━━━━━━━━━━━━━━━━━━━━━━━━━━━━━━━━\u001b[0m \u001b[32m0.0/581.4 kB\u001b[0m \u001b[31m?\u001b[0m eta \u001b[36m-:--:--\u001b[0m\r\u001b[2K     \u001b[91m━━━━━━━━━━━\u001b[0m\u001b[91m╸\u001b[0m\u001b[90m━━━━━━━━━━━━━━━━━━━━━━━━━━━━\u001b[0m \u001b[32m174.1/581.4 kB\u001b[0m \u001b[31m4.9 MB/s\u001b[0m eta \u001b[36m0:00:01\u001b[0m\r\u001b[2K     \u001b[90m━━━━━━━━━━━━━━━━━━━━━━━━━━━━━━━━━━━━━━━━\u001b[0m \u001b[32m581.4/581.4 kB\u001b[0m \u001b[31m9.9 MB/s\u001b[0m eta \u001b[36m0:00:00\u001b[0m\n",
            "\u001b[?25hRequirement already satisfied: numpy in /usr/local/lib/python3.10/dist-packages (from mglearn) (1.23.5)\n",
            "Requirement already satisfied: matplotlib in /usr/local/lib/python3.10/dist-packages (from mglearn) (3.7.1)\n",
            "Requirement already satisfied: scikit-learn in /usr/local/lib/python3.10/dist-packages (from mglearn) (1.2.2)\n",
            "Requirement already satisfied: pandas in /usr/local/lib/python3.10/dist-packages (from mglearn) (1.5.3)\n",
            "Requirement already satisfied: pillow in /usr/local/lib/python3.10/dist-packages (from mglearn) (9.4.0)\n",
            "Requirement already satisfied: cycler in /usr/local/lib/python3.10/dist-packages (from mglearn) (0.12.1)\n",
            "Requirement already satisfied: imageio in /usr/local/lib/python3.10/dist-packages (from mglearn) (2.31.6)\n",
            "Requirement already satisfied: joblib in /usr/local/lib/python3.10/dist-packages (from mglearn) (1.3.2)\n",
            "Requirement already satisfied: contourpy>=1.0.1 in /usr/local/lib/python3.10/dist-packages (from matplotlib->mglearn) (1.2.0)\n",
            "Requirement already satisfied: fonttools>=4.22.0 in /usr/local/lib/python3.10/dist-packages (from matplotlib->mglearn) (4.44.3)\n",
            "Requirement already satisfied: kiwisolver>=1.0.1 in /usr/local/lib/python3.10/dist-packages (from matplotlib->mglearn) (1.4.5)\n",
            "Requirement already satisfied: packaging>=20.0 in /usr/local/lib/python3.10/dist-packages (from matplotlib->mglearn) (23.2)\n",
            "Requirement already satisfied: pyparsing>=2.3.1 in /usr/local/lib/python3.10/dist-packages (from matplotlib->mglearn) (3.1.1)\n",
            "Requirement already satisfied: python-dateutil>=2.7 in /usr/local/lib/python3.10/dist-packages (from matplotlib->mglearn) (2.8.2)\n",
            "Requirement already satisfied: pytz>=2020.1 in /usr/local/lib/python3.10/dist-packages (from pandas->mglearn) (2023.3.post1)\n",
            "Requirement already satisfied: scipy>=1.3.2 in /usr/local/lib/python3.10/dist-packages (from scikit-learn->mglearn) (1.11.3)\n",
            "Requirement already satisfied: threadpoolctl>=2.0.0 in /usr/local/lib/python3.10/dist-packages (from scikit-learn->mglearn) (3.2.0)\n",
            "Requirement already satisfied: six>=1.5 in /usr/local/lib/python3.10/dist-packages (from python-dateutil>=2.7->matplotlib->mglearn) (1.16.0)\n",
            "Installing collected packages: mglearn\n",
            "Successfully installed mglearn-0.2.0\n"
          ]
        }
      ]
    },
    {
      "cell_type": "code",
      "source": [
        "pip install panda"
      ],
      "metadata": {
        "colab": {
          "base_uri": "https://localhost:8080/"
        },
        "id": "pb8iA4-ucRNQ",
        "outputId": "4fee5cf8-1f5d-4847-984e-8bc7195c5952"
      },
      "execution_count": 8,
      "outputs": [
        {
          "output_type": "stream",
          "name": "stdout",
          "text": [
            "Collecting panda\n",
            "  Downloading panda-0.3.1.tar.gz (5.8 kB)\n",
            "  Preparing metadata (setup.py) ... \u001b[?25l\u001b[?25hdone\n",
            "Requirement already satisfied: setuptools in /usr/local/lib/python3.10/dist-packages (from panda) (67.7.2)\n",
            "Requirement already satisfied: requests in /usr/local/lib/python3.10/dist-packages (from panda) (2.31.0)\n",
            "Requirement already satisfied: charset-normalizer<4,>=2 in /usr/local/lib/python3.10/dist-packages (from requests->panda) (3.3.2)\n",
            "Requirement already satisfied: idna<4,>=2.5 in /usr/local/lib/python3.10/dist-packages (from requests->panda) (3.4)\n",
            "Requirement already satisfied: urllib3<3,>=1.21.1 in /usr/local/lib/python3.10/dist-packages (from requests->panda) (2.0.7)\n",
            "Requirement already satisfied: certifi>=2017.4.17 in /usr/local/lib/python3.10/dist-packages (from requests->panda) (2023.7.22)\n",
            "Building wheels for collected packages: panda\n",
            "  Building wheel for panda (setup.py) ... \u001b[?25l\u001b[?25hdone\n",
            "  Created wheel for panda: filename=panda-0.3.1-py3-none-any.whl size=7239 sha256=ef40a963a14d53160281cf7225425152f6bbbf80df27c84d5d84835bb3ffb5d4\n",
            "  Stored in directory: /root/.cache/pip/wheels/0e/8b/c3/ff9cbde1fffd8071cff8367a86f0350a1ce30a8d31b6a432e9\n",
            "Successfully built panda\n",
            "Installing collected packages: panda\n",
            "Successfully installed panda-0.3.1\n"
          ]
        }
      ]
    },
    {
      "cell_type": "code",
      "source": [
        "pip install numpy"
      ],
      "metadata": {
        "colab": {
          "base_uri": "https://localhost:8080/"
        },
        "id": "FWxh_2asBtYR",
        "outputId": "21986d16-47a5-4502-ccc8-1c3bd5164599"
      },
      "execution_count": 29,
      "outputs": [
        {
          "output_type": "stream",
          "name": "stdout",
          "text": [
            "Requirement already satisfied: numpy in /usr/local/lib/python3.10/dist-packages (1.26.2)\n"
          ]
        }
      ]
    },
    {
      "cell_type": "markdown",
      "metadata": {
        "id": "IkMQRDwUDQJF"
      },
      "source": [
        "# Data Collection"
      ]
    },
    {
      "cell_type": "code",
      "execution_count": 10,
      "metadata": {
        "colab": {
          "base_uri": "https://localhost:8080/"
        },
        "id": "RZcwczJ9Ecrs",
        "outputId": "21d01fd9-ee8e-4d51-b292-60729287a756"
      },
      "outputs": [
        {
          "output_type": "stream",
          "name": "stdout",
          "text": [
            "Mounted at /content/drive\n"
          ]
        }
      ],
      "source": [
        "from google.colab import drive\n",
        "drive.mount('/content/drive')"
      ]
    },
    {
      "cell_type": "markdown",
      "metadata": {
        "id": "fry5sTA6JPSq"
      },
      "source": [
        "# PDF Format Handling and Text Extraction"
      ]
    },
    {
      "cell_type": "code",
      "execution_count": 62,
      "metadata": {
        "id": "C2l0roL0hUp2"
      },
      "outputs": [],
      "source": [
        "import os\n",
        "import PyPDF2\n",
        "import fpdf\n",
        "import re"
      ]
    },
    {
      "cell_type": "code",
      "execution_count": 63,
      "metadata": {
        "id": "J8tJxlzQgx1F"
      },
      "outputs": [],
      "source": [
        "# Directory for storing PDF files\n",
        "pdf_directory = '/content/pdf_files'"
      ]
    },
    {
      "cell_type": "code",
      "execution_count": 64,
      "metadata": {
        "id": "-bcFNeTdg2qS"
      },
      "outputs": [],
      "source": [
        "# Directory for storing extracted text from PDFs\n",
        "text_directory = '/content/extracted_text'"
      ]
    },
    {
      "cell_type": "code",
      "execution_count": 65,
      "metadata": {
        "id": "NLOZV7xXg36f"
      },
      "outputs": [],
      "source": [
        "# Create directories if they don't exist\n",
        "os.makedirs(text_directory, exist_ok=True)"
      ]
    },
    {
      "cell_type": "code",
      "execution_count": 66,
      "metadata": {
        "id": "zzGwwa8iQpI_"
      },
      "outputs": [],
      "source": [
        "pdf = fpdf.FPDF(format='letter')\n",
        "pdf.add_font('Arial', '', '/content/arial.ttf', uni=True) #path of the font file is set to avoid the error generated by U+2019=','\n",
        "pdf.set_font(\"Arial\", size=12)\n",
        "pdf.add_page()"
      ]
    },
    {
      "cell_type": "code",
      "execution_count": 67,
      "metadata": {
        "id": "rmZj9bKvJUQT"
      },
      "outputs": [],
      "source": [
        "for file_name in os.listdir(pdf_directory):\n",
        "    if file_name.endswith('.pdf'):\n",
        "        # Open the PDF file\n",
        "        with open(os.path.join(pdf_directory, file_name), 'rb') as file:\n",
        "            # Create a PDF reader object\n",
        "            reader = PyPDF2.PdfReader(file)\n",
        "\n",
        "            # Extract text from each page\n",
        "            text = ''\n",
        "            for page in reader.pages:\n",
        "                text += page.extract_text()\n",
        "                text2 = text.encode('latin-1', 'replace').decode('latin-1')\n",
        "            # Save the extracted text as a text file\n",
        "            text_file_name = file_name.replace('.pdf', '.txt')\n",
        "            text_file_path = os.path.join(text_directory, text_file_name)\n",
        "            with open(text_file_path, 'w') as text_file:\n",
        "               text_file.write(text2)"
      ]
    },
    {
      "cell_type": "code",
      "source": [
        "#text_file_path = os.path.join(text_directory, text_file_name)\n",
        "#with open (text_file_path, 'rb') as f:\n",
        "    #clean_cont = f.read().splitlines()"
      ],
      "metadata": {
        "id": "ffahOyVzHaRC"
      },
      "execution_count": 68,
      "outputs": []
    },
    {
      "cell_type": "code",
      "source": [
        "with open('/content/extracted_text/doc_3Trademark_Transfer_Agreement_AP.txt') as f:\n",
        "    clean_cont = f.read().splitlines()"
      ],
      "metadata": {
        "id": "l09nte2jV9VW"
      },
      "execution_count": 84,
      "outputs": []
    },
    {
      "cell_type": "code",
      "source": [
        "shear=[i.replace('\\xe2\\x80\\x9c','') for i in clean_cont ]\n",
        "shear=[i.replace('\\xe2\\x80\\x9d','') for i in shear ]\n",
        "shear=[i.replace('\\xe2\\x80\\x99s','') for i in shear ]\n",
        "\n",
        "shears = [x for x in shear if x != ' ']\n",
        "shearss = [x for x in shears if x != '']"
      ],
      "metadata": {
        "id": "Rj4loHYWWOAY"
      },
      "execution_count": 85,
      "outputs": []
    },
    {
      "cell_type": "code",
      "source": [
        "dubby=[re.sub(\"[^a-zA-Z]+\", \" \", s) for s in shearss]"
      ],
      "metadata": {
        "id": "AFXZsrBbWTjH"
      },
      "execution_count": 86,
      "outputs": []
    },
    {
      "cell_type": "markdown",
      "source": [
        "# TOPIC MODELLING"
      ],
      "metadata": {
        "id": "iKpB2POz0H4U"
      }
    },
    {
      "cell_type": "code",
      "source": [
        "import pandas as pd\n",
        "import numpy as np\n",
        "#from sklearn.feature_extraction.text import TfidfVectorizer\n",
        "from sklearn.feature_extraction.text import CountVectorizer,TfidfVectorizer\n",
        "from sklearn.decomposition import LatentDirichletAllocation\n",
        "\n",
        "%pylab\n",
        "%matplotlib inline"
      ],
      "metadata": {
        "colab": {
          "base_uri": "https://localhost:8080/"
        },
        "id": "FGTLDCr30Avt",
        "outputId": "5aafb314-a198-419e-b80c-4576789a74da"
      },
      "execution_count": 87,
      "outputs": [
        {
          "output_type": "stream",
          "name": "stdout",
          "text": [
            "Using matplotlib backend: agg\n",
            "Populating the interactive namespace from numpy and matplotlib\n"
          ]
        },
        {
          "output_type": "stream",
          "name": "stderr",
          "text": [
            "/usr/local/lib/python3.10/dist-packages/IPython/core/magics/pylab.py:159: UserWarning: pylab import has clobbered these variables: ['f']\n",
            "`%matplotlib` prevents importing * from pylab and numpy\n",
            "  warn(\"pylab import has clobbered these variables: %s\"  % clobbered +\n"
          ]
        }
      ]
    },
    {
      "cell_type": "code",
      "source": [
        "from sklearn.feature_extraction import _stop_words"
      ],
      "metadata": {
        "id": "n29VaRZH0hvZ"
      },
      "execution_count": 88,
      "outputs": []
    },
    {
      "cell_type": "code",
      "source": [
        "vect=CountVectorizer(ngram_range=(1,1),stop_words='english')"
      ],
      "metadata": {
        "id": "VhVEBayL1e1Q"
      },
      "execution_count": 89,
      "outputs": []
    },
    {
      "cell_type": "code",
      "source": [
        "dtm=vect.fit_transform(dubby)"
      ],
      "metadata": {
        "id": "uuMVE4q81gxZ"
      },
      "execution_count": 90,
      "outputs": []
    },
    {
      "cell_type": "code",
      "source": [
        "dtm"
      ],
      "metadata": {
        "colab": {
          "base_uri": "https://localhost:8080/"
        },
        "id": "NYtF1BkS1mYq",
        "outputId": "c190a23a-6d5c-4639-c6d6-7a1666fba140"
      },
      "execution_count": 91,
      "outputs": [
        {
          "output_type": "execute_result",
          "data": {
            "text/plain": [
              "<147x352 sparse matrix of type '<class 'numpy.int64'>'\n",
              "\twith 663 stored elements in Compressed Sparse Row format>"
            ]
          },
          "metadata": {},
          "execution_count": 91
        }
      ]
    },
    {
      "cell_type": "code",
      "source": [
        "pd.DataFrame(dtm.toarray(),columns=vect.get_feature_names_out())"
      ],
      "metadata": {
        "colab": {
          "base_uri": "https://localhost:8080/",
          "height": 444
        },
        "id": "PmlNBd6s18TJ",
        "outputId": "bc6c1fd0-c34c-4b25-ff08-78be339897d8"
      },
      "execution_count": 92,
      "outputs": [
        {
          "output_type": "execute_result",
          "data": {
            "text/plain": [
              "     accommodate  accordance  acknowledged  action  actions  additional  \\\n",
              "0              0           0             0       0        0           0   \n",
              "1              0           0             0       0        0           0   \n",
              "2              0           0             0       0        0           0   \n",
              "3              0           0             0       0        0           0   \n",
              "4              0           0             0       0        0           0   \n",
              "..           ...         ...           ...     ...      ...         ...   \n",
              "142            0           0             0       0        0           0   \n",
              "143            0           0             0       0        0           0   \n",
              "144            0           0             0       0        0           0   \n",
              "145            0           0             0       0        0           0   \n",
              "146            0           0             0       0        0           0   \n",
              "\n",
              "     address  advised  affiliated  aggrieved  ...  warranty  way  whereof  \\\n",
              "0          0        0           0          0  ...         0    0        0   \n",
              "1          0        0           0          0  ...         0    0        0   \n",
              "2          0        0           0          0  ...         0    0        0   \n",
              "3          0        0           0          0  ...         0    0        0   \n",
              "4          0        0           0          0  ...         0    0        0   \n",
              "..       ...      ...         ...        ...  ...       ...  ...      ...   \n",
              "142        0        0           0          0  ...         0    0        0   \n",
              "143        0        0           0          0  ...         0    0        0   \n",
              "144        0        0           0          0  ...         0    0        0   \n",
              "145        0        0           0          0  ...         0    0        0   \n",
              "146        0        0           0          0  ...         0    0        0   \n",
              "\n",
              "     witness  working  wou  writing  written  www  york  \n",
              "0          0        0    0        0        0    0     0  \n",
              "1          0        0    0        0        0    0     0  \n",
              "2          0        0    0        0        0    0     0  \n",
              "3          0        0    0        0        0    0     0  \n",
              "4          0        0    0        0        0    0     0  \n",
              "..       ...      ...  ...      ...      ...  ...   ...  \n",
              "142        0        0    0        0        0    0     0  \n",
              "143        0        0    0        0        0    0     0  \n",
              "144        0        0    0        0        0    0     0  \n",
              "145        0        0    0        0        0    0     0  \n",
              "146        0        0    0        0        0    0     0  \n",
              "\n",
              "[147 rows x 352 columns]"
            ],
            "text/html": [
              "\n",
              "  <div id=\"df-32476528-975a-4ec7-8844-13ed93c316a3\" class=\"colab-df-container\">\n",
              "    <div>\n",
              "<style scoped>\n",
              "    .dataframe tbody tr th:only-of-type {\n",
              "        vertical-align: middle;\n",
              "    }\n",
              "\n",
              "    .dataframe tbody tr th {\n",
              "        vertical-align: top;\n",
              "    }\n",
              "\n",
              "    .dataframe thead th {\n",
              "        text-align: right;\n",
              "    }\n",
              "</style>\n",
              "<table border=\"1\" class=\"dataframe\">\n",
              "  <thead>\n",
              "    <tr style=\"text-align: right;\">\n",
              "      <th></th>\n",
              "      <th>accommodate</th>\n",
              "      <th>accordance</th>\n",
              "      <th>acknowledged</th>\n",
              "      <th>action</th>\n",
              "      <th>actions</th>\n",
              "      <th>additional</th>\n",
              "      <th>address</th>\n",
              "      <th>advised</th>\n",
              "      <th>affiliated</th>\n",
              "      <th>aggrieved</th>\n",
              "      <th>...</th>\n",
              "      <th>warranty</th>\n",
              "      <th>way</th>\n",
              "      <th>whereof</th>\n",
              "      <th>witness</th>\n",
              "      <th>working</th>\n",
              "      <th>wou</th>\n",
              "      <th>writing</th>\n",
              "      <th>written</th>\n",
              "      <th>www</th>\n",
              "      <th>york</th>\n",
              "    </tr>\n",
              "  </thead>\n",
              "  <tbody>\n",
              "    <tr>\n",
              "      <th>0</th>\n",
              "      <td>0</td>\n",
              "      <td>0</td>\n",
              "      <td>0</td>\n",
              "      <td>0</td>\n",
              "      <td>0</td>\n",
              "      <td>0</td>\n",
              "      <td>0</td>\n",
              "      <td>0</td>\n",
              "      <td>0</td>\n",
              "      <td>0</td>\n",
              "      <td>...</td>\n",
              "      <td>0</td>\n",
              "      <td>0</td>\n",
              "      <td>0</td>\n",
              "      <td>0</td>\n",
              "      <td>0</td>\n",
              "      <td>0</td>\n",
              "      <td>0</td>\n",
              "      <td>0</td>\n",
              "      <td>0</td>\n",
              "      <td>0</td>\n",
              "    </tr>\n",
              "    <tr>\n",
              "      <th>1</th>\n",
              "      <td>0</td>\n",
              "      <td>0</td>\n",
              "      <td>0</td>\n",
              "      <td>0</td>\n",
              "      <td>0</td>\n",
              "      <td>0</td>\n",
              "      <td>0</td>\n",
              "      <td>0</td>\n",
              "      <td>0</td>\n",
              "      <td>0</td>\n",
              "      <td>...</td>\n",
              "      <td>0</td>\n",
              "      <td>0</td>\n",
              "      <td>0</td>\n",
              "      <td>0</td>\n",
              "      <td>0</td>\n",
              "      <td>0</td>\n",
              "      <td>0</td>\n",
              "      <td>0</td>\n",
              "      <td>0</td>\n",
              "      <td>0</td>\n",
              "    </tr>\n",
              "    <tr>\n",
              "      <th>2</th>\n",
              "      <td>0</td>\n",
              "      <td>0</td>\n",
              "      <td>0</td>\n",
              "      <td>0</td>\n",
              "      <td>0</td>\n",
              "      <td>0</td>\n",
              "      <td>0</td>\n",
              "      <td>0</td>\n",
              "      <td>0</td>\n",
              "      <td>0</td>\n",
              "      <td>...</td>\n",
              "      <td>0</td>\n",
              "      <td>0</td>\n",
              "      <td>0</td>\n",
              "      <td>0</td>\n",
              "      <td>0</td>\n",
              "      <td>0</td>\n",
              "      <td>0</td>\n",
              "      <td>0</td>\n",
              "      <td>0</td>\n",
              "      <td>0</td>\n",
              "    </tr>\n",
              "    <tr>\n",
              "      <th>3</th>\n",
              "      <td>0</td>\n",
              "      <td>0</td>\n",
              "      <td>0</td>\n",
              "      <td>0</td>\n",
              "      <td>0</td>\n",
              "      <td>0</td>\n",
              "      <td>0</td>\n",
              "      <td>0</td>\n",
              "      <td>0</td>\n",
              "      <td>0</td>\n",
              "      <td>...</td>\n",
              "      <td>0</td>\n",
              "      <td>0</td>\n",
              "      <td>0</td>\n",
              "      <td>0</td>\n",
              "      <td>0</td>\n",
              "      <td>0</td>\n",
              "      <td>0</td>\n",
              "      <td>0</td>\n",
              "      <td>0</td>\n",
              "      <td>0</td>\n",
              "    </tr>\n",
              "    <tr>\n",
              "      <th>4</th>\n",
              "      <td>0</td>\n",
              "      <td>0</td>\n",
              "      <td>0</td>\n",
              "      <td>0</td>\n",
              "      <td>0</td>\n",
              "      <td>0</td>\n",
              "      <td>0</td>\n",
              "      <td>0</td>\n",
              "      <td>0</td>\n",
              "      <td>0</td>\n",
              "      <td>...</td>\n",
              "      <td>0</td>\n",
              "      <td>0</td>\n",
              "      <td>0</td>\n",
              "      <td>0</td>\n",
              "      <td>0</td>\n",
              "      <td>0</td>\n",
              "      <td>0</td>\n",
              "      <td>0</td>\n",
              "      <td>0</td>\n",
              "      <td>0</td>\n",
              "    </tr>\n",
              "    <tr>\n",
              "      <th>...</th>\n",
              "      <td>...</td>\n",
              "      <td>...</td>\n",
              "      <td>...</td>\n",
              "      <td>...</td>\n",
              "      <td>...</td>\n",
              "      <td>...</td>\n",
              "      <td>...</td>\n",
              "      <td>...</td>\n",
              "      <td>...</td>\n",
              "      <td>...</td>\n",
              "      <td>...</td>\n",
              "      <td>...</td>\n",
              "      <td>...</td>\n",
              "      <td>...</td>\n",
              "      <td>...</td>\n",
              "      <td>...</td>\n",
              "      <td>...</td>\n",
              "      <td>...</td>\n",
              "      <td>...</td>\n",
              "      <td>...</td>\n",
              "      <td>...</td>\n",
              "    </tr>\n",
              "    <tr>\n",
              "      <th>142</th>\n",
              "      <td>0</td>\n",
              "      <td>0</td>\n",
              "      <td>0</td>\n",
              "      <td>0</td>\n",
              "      <td>0</td>\n",
              "      <td>0</td>\n",
              "      <td>0</td>\n",
              "      <td>0</td>\n",
              "      <td>0</td>\n",
              "      <td>0</td>\n",
              "      <td>...</td>\n",
              "      <td>0</td>\n",
              "      <td>0</td>\n",
              "      <td>0</td>\n",
              "      <td>0</td>\n",
              "      <td>0</td>\n",
              "      <td>0</td>\n",
              "      <td>0</td>\n",
              "      <td>0</td>\n",
              "      <td>0</td>\n",
              "      <td>0</td>\n",
              "    </tr>\n",
              "    <tr>\n",
              "      <th>143</th>\n",
              "      <td>0</td>\n",
              "      <td>0</td>\n",
              "      <td>0</td>\n",
              "      <td>0</td>\n",
              "      <td>0</td>\n",
              "      <td>0</td>\n",
              "      <td>0</td>\n",
              "      <td>0</td>\n",
              "      <td>0</td>\n",
              "      <td>0</td>\n",
              "      <td>...</td>\n",
              "      <td>0</td>\n",
              "      <td>0</td>\n",
              "      <td>0</td>\n",
              "      <td>0</td>\n",
              "      <td>0</td>\n",
              "      <td>0</td>\n",
              "      <td>0</td>\n",
              "      <td>0</td>\n",
              "      <td>0</td>\n",
              "      <td>0</td>\n",
              "    </tr>\n",
              "    <tr>\n",
              "      <th>144</th>\n",
              "      <td>0</td>\n",
              "      <td>0</td>\n",
              "      <td>0</td>\n",
              "      <td>0</td>\n",
              "      <td>0</td>\n",
              "      <td>0</td>\n",
              "      <td>0</td>\n",
              "      <td>0</td>\n",
              "      <td>0</td>\n",
              "      <td>0</td>\n",
              "      <td>...</td>\n",
              "      <td>0</td>\n",
              "      <td>0</td>\n",
              "      <td>0</td>\n",
              "      <td>0</td>\n",
              "      <td>0</td>\n",
              "      <td>0</td>\n",
              "      <td>0</td>\n",
              "      <td>0</td>\n",
              "      <td>0</td>\n",
              "      <td>0</td>\n",
              "    </tr>\n",
              "    <tr>\n",
              "      <th>145</th>\n",
              "      <td>0</td>\n",
              "      <td>0</td>\n",
              "      <td>0</td>\n",
              "      <td>0</td>\n",
              "      <td>0</td>\n",
              "      <td>0</td>\n",
              "      <td>0</td>\n",
              "      <td>0</td>\n",
              "      <td>0</td>\n",
              "      <td>0</td>\n",
              "      <td>...</td>\n",
              "      <td>0</td>\n",
              "      <td>0</td>\n",
              "      <td>0</td>\n",
              "      <td>0</td>\n",
              "      <td>0</td>\n",
              "      <td>0</td>\n",
              "      <td>0</td>\n",
              "      <td>0</td>\n",
              "      <td>0</td>\n",
              "      <td>0</td>\n",
              "    </tr>\n",
              "    <tr>\n",
              "      <th>146</th>\n",
              "      <td>0</td>\n",
              "      <td>0</td>\n",
              "      <td>0</td>\n",
              "      <td>0</td>\n",
              "      <td>0</td>\n",
              "      <td>0</td>\n",
              "      <td>0</td>\n",
              "      <td>0</td>\n",
              "      <td>0</td>\n",
              "      <td>0</td>\n",
              "      <td>...</td>\n",
              "      <td>0</td>\n",
              "      <td>0</td>\n",
              "      <td>0</td>\n",
              "      <td>0</td>\n",
              "      <td>0</td>\n",
              "      <td>0</td>\n",
              "      <td>0</td>\n",
              "      <td>0</td>\n",
              "      <td>0</td>\n",
              "      <td>0</td>\n",
              "    </tr>\n",
              "  </tbody>\n",
              "</table>\n",
              "<p>147 rows × 352 columns</p>\n",
              "</div>\n",
              "    <div class=\"colab-df-buttons\">\n",
              "\n",
              "  <div class=\"colab-df-container\">\n",
              "    <button class=\"colab-df-convert\" onclick=\"convertToInteractive('df-32476528-975a-4ec7-8844-13ed93c316a3')\"\n",
              "            title=\"Convert this dataframe to an interactive table.\"\n",
              "            style=\"display:none;\">\n",
              "\n",
              "  <svg xmlns=\"http://www.w3.org/2000/svg\" height=\"24px\" viewBox=\"0 -960 960 960\">\n",
              "    <path d=\"M120-120v-720h720v720H120Zm60-500h600v-160H180v160Zm220 220h160v-160H400v160Zm0 220h160v-160H400v160ZM180-400h160v-160H180v160Zm440 0h160v-160H620v160ZM180-180h160v-160H180v160Zm440 0h160v-160H620v160Z\"/>\n",
              "  </svg>\n",
              "    </button>\n",
              "\n",
              "  <style>\n",
              "    .colab-df-container {\n",
              "      display:flex;\n",
              "      gap: 12px;\n",
              "    }\n",
              "\n",
              "    .colab-df-convert {\n",
              "      background-color: #E8F0FE;\n",
              "      border: none;\n",
              "      border-radius: 50%;\n",
              "      cursor: pointer;\n",
              "      display: none;\n",
              "      fill: #1967D2;\n",
              "      height: 32px;\n",
              "      padding: 0 0 0 0;\n",
              "      width: 32px;\n",
              "    }\n",
              "\n",
              "    .colab-df-convert:hover {\n",
              "      background-color: #E2EBFA;\n",
              "      box-shadow: 0px 1px 2px rgba(60, 64, 67, 0.3), 0px 1px 3px 1px rgba(60, 64, 67, 0.15);\n",
              "      fill: #174EA6;\n",
              "    }\n",
              "\n",
              "    .colab-df-buttons div {\n",
              "      margin-bottom: 4px;\n",
              "    }\n",
              "\n",
              "    [theme=dark] .colab-df-convert {\n",
              "      background-color: #3B4455;\n",
              "      fill: #D2E3FC;\n",
              "    }\n",
              "\n",
              "    [theme=dark] .colab-df-convert:hover {\n",
              "      background-color: #434B5C;\n",
              "      box-shadow: 0px 1px 3px 1px rgba(0, 0, 0, 0.15);\n",
              "      filter: drop-shadow(0px 1px 2px rgba(0, 0, 0, 0.3));\n",
              "      fill: #FFFFFF;\n",
              "    }\n",
              "  </style>\n",
              "\n",
              "    <script>\n",
              "      const buttonEl =\n",
              "        document.querySelector('#df-32476528-975a-4ec7-8844-13ed93c316a3 button.colab-df-convert');\n",
              "      buttonEl.style.display =\n",
              "        google.colab.kernel.accessAllowed ? 'block' : 'none';\n",
              "\n",
              "      async function convertToInteractive(key) {\n",
              "        const element = document.querySelector('#df-32476528-975a-4ec7-8844-13ed93c316a3');\n",
              "        const dataTable =\n",
              "          await google.colab.kernel.invokeFunction('convertToInteractive',\n",
              "                                                    [key], {});\n",
              "        if (!dataTable) return;\n",
              "\n",
              "        const docLinkHtml = 'Like what you see? Visit the ' +\n",
              "          '<a target=\"_blank\" href=https://colab.research.google.com/notebooks/data_table.ipynb>data table notebook</a>'\n",
              "          + ' to learn more about interactive tables.';\n",
              "        element.innerHTML = '';\n",
              "        dataTable['output_type'] = 'display_data';\n",
              "        await google.colab.output.renderOutput(dataTable, element);\n",
              "        const docLink = document.createElement('div');\n",
              "        docLink.innerHTML = docLinkHtml;\n",
              "        element.appendChild(docLink);\n",
              "      }\n",
              "    </script>\n",
              "  </div>\n",
              "\n",
              "\n",
              "<div id=\"df-8a4c0ce7-6bc0-42a1-a4cd-a2bbef2e855a\">\n",
              "  <button class=\"colab-df-quickchart\" onclick=\"quickchart('df-8a4c0ce7-6bc0-42a1-a4cd-a2bbef2e855a')\"\n",
              "            title=\"Suggest charts\"\n",
              "            style=\"display:none;\">\n",
              "\n",
              "<svg xmlns=\"http://www.w3.org/2000/svg\" height=\"24px\"viewBox=\"0 0 24 24\"\n",
              "     width=\"24px\">\n",
              "    <g>\n",
              "        <path d=\"M19 3H5c-1.1 0-2 .9-2 2v14c0 1.1.9 2 2 2h14c1.1 0 2-.9 2-2V5c0-1.1-.9-2-2-2zM9 17H7v-7h2v7zm4 0h-2V7h2v10zm4 0h-2v-4h2v4z\"/>\n",
              "    </g>\n",
              "</svg>\n",
              "  </button>\n",
              "\n",
              "<style>\n",
              "  .colab-df-quickchart {\n",
              "      --bg-color: #E8F0FE;\n",
              "      --fill-color: #1967D2;\n",
              "      --hover-bg-color: #E2EBFA;\n",
              "      --hover-fill-color: #174EA6;\n",
              "      --disabled-fill-color: #AAA;\n",
              "      --disabled-bg-color: #DDD;\n",
              "  }\n",
              "\n",
              "  [theme=dark] .colab-df-quickchart {\n",
              "      --bg-color: #3B4455;\n",
              "      --fill-color: #D2E3FC;\n",
              "      --hover-bg-color: #434B5C;\n",
              "      --hover-fill-color: #FFFFFF;\n",
              "      --disabled-bg-color: #3B4455;\n",
              "      --disabled-fill-color: #666;\n",
              "  }\n",
              "\n",
              "  .colab-df-quickchart {\n",
              "    background-color: var(--bg-color);\n",
              "    border: none;\n",
              "    border-radius: 50%;\n",
              "    cursor: pointer;\n",
              "    display: none;\n",
              "    fill: var(--fill-color);\n",
              "    height: 32px;\n",
              "    padding: 0;\n",
              "    width: 32px;\n",
              "  }\n",
              "\n",
              "  .colab-df-quickchart:hover {\n",
              "    background-color: var(--hover-bg-color);\n",
              "    box-shadow: 0 1px 2px rgba(60, 64, 67, 0.3), 0 1px 3px 1px rgba(60, 64, 67, 0.15);\n",
              "    fill: var(--button-hover-fill-color);\n",
              "  }\n",
              "\n",
              "  .colab-df-quickchart-complete:disabled,\n",
              "  .colab-df-quickchart-complete:disabled:hover {\n",
              "    background-color: var(--disabled-bg-color);\n",
              "    fill: var(--disabled-fill-color);\n",
              "    box-shadow: none;\n",
              "  }\n",
              "\n",
              "  .colab-df-spinner {\n",
              "    border: 2px solid var(--fill-color);\n",
              "    border-color: transparent;\n",
              "    border-bottom-color: var(--fill-color);\n",
              "    animation:\n",
              "      spin 1s steps(1) infinite;\n",
              "  }\n",
              "\n",
              "  @keyframes spin {\n",
              "    0% {\n",
              "      border-color: transparent;\n",
              "      border-bottom-color: var(--fill-color);\n",
              "      border-left-color: var(--fill-color);\n",
              "    }\n",
              "    20% {\n",
              "      border-color: transparent;\n",
              "      border-left-color: var(--fill-color);\n",
              "      border-top-color: var(--fill-color);\n",
              "    }\n",
              "    30% {\n",
              "      border-color: transparent;\n",
              "      border-left-color: var(--fill-color);\n",
              "      border-top-color: var(--fill-color);\n",
              "      border-right-color: var(--fill-color);\n",
              "    }\n",
              "    40% {\n",
              "      border-color: transparent;\n",
              "      border-right-color: var(--fill-color);\n",
              "      border-top-color: var(--fill-color);\n",
              "    }\n",
              "    60% {\n",
              "      border-color: transparent;\n",
              "      border-right-color: var(--fill-color);\n",
              "    }\n",
              "    80% {\n",
              "      border-color: transparent;\n",
              "      border-right-color: var(--fill-color);\n",
              "      border-bottom-color: var(--fill-color);\n",
              "    }\n",
              "    90% {\n",
              "      border-color: transparent;\n",
              "      border-bottom-color: var(--fill-color);\n",
              "    }\n",
              "  }\n",
              "</style>\n",
              "\n",
              "  <script>\n",
              "    async function quickchart(key) {\n",
              "      const quickchartButtonEl =\n",
              "        document.querySelector('#' + key + ' button');\n",
              "      quickchartButtonEl.disabled = true;  // To prevent multiple clicks.\n",
              "      quickchartButtonEl.classList.add('colab-df-spinner');\n",
              "      try {\n",
              "        const charts = await google.colab.kernel.invokeFunction(\n",
              "            'suggestCharts', [key], {});\n",
              "      } catch (error) {\n",
              "        console.error('Error during call to suggestCharts:', error);\n",
              "      }\n",
              "      quickchartButtonEl.classList.remove('colab-df-spinner');\n",
              "      quickchartButtonEl.classList.add('colab-df-quickchart-complete');\n",
              "    }\n",
              "    (() => {\n",
              "      let quickchartButtonEl =\n",
              "        document.querySelector('#df-8a4c0ce7-6bc0-42a1-a4cd-a2bbef2e855a button');\n",
              "      quickchartButtonEl.style.display =\n",
              "        google.colab.kernel.accessAllowed ? 'block' : 'none';\n",
              "    })();\n",
              "  </script>\n",
              "</div>\n",
              "    </div>\n",
              "  </div>\n"
            ]
          },
          "metadata": {},
          "execution_count": 92
        }
      ]
    },
    {
      "cell_type": "code",
      "source": [
        "lda=LatentDirichletAllocation(n_components=5)"
      ],
      "metadata": {
        "id": "nOSf6Mb22pkp"
      },
      "execution_count": 93,
      "outputs": []
    },
    {
      "cell_type": "code",
      "source": [
        "lda.fit_transform(dtm)"
      ],
      "metadata": {
        "colab": {
          "base_uri": "https://localhost:8080/"
        },
        "id": "oaddDnhp2zPs",
        "outputId": "205a6869-7d3a-4b47-84fe-b6dc5386dea6"
      },
      "execution_count": 94,
      "outputs": [
        {
          "output_type": "execute_result",
          "data": {
            "text/plain": [
              "array([[0.10077652, 0.59793166, 0.10120443, 0.1000062 , 0.1000812 ],\n",
              "       [0.79656947, 0.05012546, 0.05014262, 0.0528627 , 0.05029975],\n",
              "       [0.06719581, 0.06666738, 0.0666675 , 0.73266322, 0.06680609],\n",
              "       [0.86591171, 0.03385003, 0.03341529, 0.03341913, 0.03340385],\n",
              "       [0.73281415, 0.06666921, 0.06690375, 0.06666902, 0.06694388],\n",
              "       [0.02935254, 0.03012778, 0.88294309, 0.02870975, 0.02886683],\n",
              "       [0.91004453, 0.02260477, 0.02282375, 0.02223674, 0.02229021],\n",
              "       [0.02541242, 0.89938751, 0.02509971, 0.02505435, 0.02504601],\n",
              "       [0.86565475, 0.03376165, 0.03373818, 0.03344176, 0.03340366],\n",
              "       [0.02555334, 0.89883468, 0.0253878 , 0.0251359 , 0.02508828],\n",
              "       [0.03374955, 0.86483556, 0.03451053, 0.03341773, 0.03348664],\n",
              "       [0.04000386, 0.0403403 , 0.83933373, 0.04027304, 0.04004907],\n",
              "       [0.02967419, 0.02910208, 0.8839624 , 0.02862011, 0.02864122],\n",
              "       [0.91100155, 0.02231702, 0.02222477, 0.02223045, 0.02222621],\n",
              "       [0.52657735, 0.03363277, 0.03333954, 0.37310967, 0.03334067],\n",
              "       [0.86663171, 0.03334128, 0.03334235, 0.03334076, 0.03334389],\n",
              "       [0.88522226, 0.02857719, 0.028835  , 0.02875771, 0.02860784],\n",
              "       [0.89896548, 0.02520719, 0.02564899, 0.02510334, 0.025075  ],\n",
              "       [0.41392356, 0.51062661, 0.02525804, 0.02510975, 0.02508204],\n",
              "       [0.02903049, 0.02872372, 0.88391632, 0.02895929, 0.02937018],\n",
              "       [0.02264774, 0.02307954, 0.90959719, 0.02231166, 0.02236386],\n",
              "       [0.0286105 , 0.88528647, 0.02859955, 0.02882112, 0.02868237],\n",
              "       [0.89940418, 0.02536059, 0.02512725, 0.02510438, 0.0250036 ],\n",
              "       [0.02228508, 0.02239484, 0.02222698, 0.91076002, 0.02233308],\n",
              "       [0.05142478, 0.05121595, 0.79643319, 0.05051154, 0.05041454],\n",
              "       [0.02880708, 0.88496393, 0.0286656 , 0.02882275, 0.02874064],\n",
              "       [0.90944967, 0.02294134, 0.02235915, 0.02258996, 0.02265988],\n",
              "       [0.02525292, 0.89947241, 0.02502031, 0.02504008, 0.02521428],\n",
              "       [0.0255165 , 0.02544702, 0.0250952 , 0.89855919, 0.0253821 ],\n",
              "       [0.02879703, 0.02970212, 0.02867065, 0.02866447, 0.88416573],\n",
              "       [0.89925677, 0.02545552, 0.02511115, 0.02504874, 0.02512782],\n",
              "       [0.02529044, 0.02507436, 0.02516998, 0.02516006, 0.89930516],\n",
              "       [0.02017186, 0.91929337, 0.02049871, 0.02001886, 0.02001719],\n",
              "       [0.04032658, 0.83966214, 0.04000374, 0.04000308, 0.04000445],\n",
              "       [0.10072746, 0.10068972, 0.59857286, 0.10000412, 0.10000584],\n",
              "       [0.02606498, 0.89713574, 0.02539946, 0.02595737, 0.02544245],\n",
              "       [0.02517771, 0.89919644, 0.02545881, 0.02508472, 0.02508232],\n",
              "       [0.02925456, 0.42046358, 0.02871566, 0.02857503, 0.49299117],\n",
              "       [0.93311129, 0.01675975, 0.0166702 , 0.01671847, 0.0167403 ],\n",
              "       [0.05090553, 0.05022622, 0.05025747, 0.79830698, 0.0503038 ],\n",
              "       [0.89932468, 0.02508599, 0.02506677, 0.02544715, 0.02507541],\n",
              "       [0.92685738, 0.0183209 , 0.01826392, 0.01830095, 0.01825685],\n",
              "       [0.4337562 , 0.01670207, 0.51617175, 0.01669937, 0.0166706 ],\n",
              "       [0.52466979, 0.02527482, 0.02505656, 0.0250045 , 0.39999433],\n",
              "       [0.57587467, 0.37362929, 0.01685186, 0.016877  , 0.01676719],\n",
              "       [0.02900607, 0.0288741 , 0.02884221, 0.02920812, 0.88406949],\n",
              "       [0.02542521, 0.02500315, 0.02500358, 0.89950564, 0.02506242],\n",
              "       [0.02222519, 0.02222613, 0.02231625, 0.91089971, 0.02233272],\n",
              "       [0.89945909, 0.02528549, 0.02500293, 0.02524909, 0.0250034 ],\n",
              "       [0.02230834, 0.91084719, 0.02229578, 0.02222465, 0.02232404],\n",
              "       [0.8846243 , 0.02911942, 0.02869776, 0.02882346, 0.02873506],\n",
              "       [0.88451293, 0.02880345, 0.02914379, 0.02886429, 0.02867554],\n",
              "       [0.0251994 , 0.89931965, 0.02532421, 0.02511212, 0.02504462],\n",
              "       [0.02137097, 0.02040835, 0.02010659, 0.91807388, 0.02004021],\n",
              "       [0.02222344, 0.02278273, 0.91050504, 0.02224182, 0.02224698],\n",
              "       [0.02897892, 0.02881784, 0.02869889, 0.88482256, 0.02868179],\n",
              "       [0.03367826, 0.86622557, 0.03337281, 0.03333792, 0.03338544],\n",
              "       [0.04044127, 0.8391559 , 0.04000832, 0.04000686, 0.04038765],\n",
              "       [0.86552829, 0.03384906, 0.0333399 , 0.03361428, 0.03366847],\n",
              "       [0.04023142, 0.04000532, 0.04000603, 0.83975019, 0.04000705],\n",
              "       [0.04000404, 0.04078665, 0.83919731, 0.04000496, 0.04000704],\n",
              "       [0.03374445, 0.03368468, 0.03351174, 0.86557223, 0.03348689],\n",
              "       [0.03333679, 0.03367277, 0.03333849, 0.03333758, 0.86631437],\n",
              "       [0.04123099, 0.83838332, 0.04019445, 0.04011548, 0.04007575],\n",
              "       [0.06667385, 0.73270372, 0.06667738, 0.06667551, 0.06726955],\n",
              "       [0.10001525, 0.10002009, 0.59991924, 0.10001878, 0.10002664],\n",
              "       [0.88559381, 0.02857465, 0.02863258, 0.02859452, 0.02860444],\n",
              "       [0.04000597, 0.04000786, 0.04000891, 0.83996685, 0.04001042],\n",
              "       [0.03354956, 0.8658233 , 0.03377315, 0.03343537, 0.03341862],\n",
              "       [0.57979686, 0.03435844, 0.31754829, 0.0347869 , 0.03350951],\n",
              "       [0.02860739, 0.02863482, 0.02857606, 0.88559599, 0.02858574],\n",
              "       [0.59164469, 0.10355807, 0.10165454, 0.10174319, 0.10139951],\n",
              "       [0.0334913 , 0.03333832, 0.03333898, 0.86649146, 0.03333994],\n",
              "       [0.02867366, 0.02859683, 0.02875974, 0.88532884, 0.02864092],\n",
              "       [0.02526272, 0.02508816, 0.89863751, 0.02566401, 0.0253476 ],\n",
              "       [0.02500274, 0.0250036 , 0.89978957, 0.02508255, 0.02512153],\n",
              "       [0.02227323, 0.02246558, 0.91074418, 0.02228583, 0.02223118],\n",
              "       [0.02018098, 0.02011306, 0.02013338, 0.91933643, 0.02023614],\n",
              "       [0.03397393, 0.03393714, 0.03355145, 0.03370034, 0.86483715],\n",
              "       [0.06667434, 0.06714543, 0.06667812, 0.73282204, 0.06668007],\n",
              "       [0.59164469, 0.10355807, 0.10165454, 0.10174319, 0.10139951],\n",
              "       [0.2       , 0.2       , 0.2       , 0.2       , 0.2       ],\n",
              "       [0.2       , 0.2       , 0.2       , 0.2       , 0.2       ],\n",
              "       [0.79907418, 0.05092005, 0.05000184, 0.05000152, 0.0500024 ],\n",
              "       [0.733257  , 0.06668403, 0.06668635, 0.0666829 , 0.06668971],\n",
              "       [0.06667737, 0.06668077, 0.06668265, 0.73327385, 0.06668537],\n",
              "       [0.10001304, 0.10001717, 0.10001946, 0.10001605, 0.59993428],\n",
              "       [0.2       , 0.2       , 0.2       , 0.2       , 0.2       ],\n",
              "       [0.02897233, 0.02913193, 0.03025025, 0.88279783, 0.02884766],\n",
              "       [0.03376505, 0.03370076, 0.86537062, 0.03367207, 0.0334915 ],\n",
              "       [0.03390226, 0.03348675, 0.44688449, 0.45216357, 0.03356293],\n",
              "       [0.02857411, 0.20937761, 0.704784  , 0.02868818, 0.0285761 ],\n",
              "       [0.04007344, 0.04000336, 0.04022808, 0.83967152, 0.0400236 ],\n",
              "       [0.03338222, 0.03333639, 0.03527129, 0.86466014, 0.03334996],\n",
              "       [0.88492699, 0.02861819, 0.02888559, 0.02885334, 0.02871589],\n",
              "       [0.03333637, 0.03333733, 0.03414973, 0.86583794, 0.03333863],\n",
              "       [0.02857234, 0.02881045, 0.88500887, 0.02903533, 0.02857301],\n",
              "       [0.10096913, 0.10000124, 0.10000145, 0.59878618, 0.10024201],\n",
              "       [0.02507674, 0.02501999, 0.02513925, 0.89936222, 0.0254018 ],\n",
              "       [0.02500234, 0.02500308, 0.02503839, 0.0250316 , 0.89992459],\n",
              "       [0.06667208, 0.0666738 , 0.06667474, 0.06667333, 0.73330605],\n",
              "       [0.03333712, 0.03333832, 0.03333899, 0.86664562, 0.03333995],\n",
              "       [0.0251152 , 0.02504057, 0.0251286 , 0.02522875, 0.89948688],\n",
              "       [0.10096913, 0.10000124, 0.10000145, 0.59878618, 0.10024201],\n",
              "       [0.03347753, 0.03356823, 0.03337217, 0.86615195, 0.03343012],\n",
              "       [0.86634937, 0.03334127, 0.03362476, 0.03334075, 0.03334385],\n",
              "       [0.03333791, 0.86647079, 0.03334016, 0.03350982, 0.03334132],\n",
              "       [0.02867406, 0.02873711, 0.02860049, 0.88534672, 0.02864162],\n",
              "       [0.79994549, 0.0500124 , 0.05001406, 0.05001159, 0.05001646],\n",
              "       [0.03007409, 0.02881358, 0.02898066, 0.8832066 , 0.02892507],\n",
              "       [0.8646705 , 0.03381156, 0.03341991, 0.03433072, 0.03376732],\n",
              "       [0.02888295, 0.88538542, 0.02857722, 0.02857621, 0.0285782 ],\n",
              "       [0.03333791, 0.86623071, 0.03334016, 0.0337499 , 0.03334132],\n",
              "       [0.88394573, 0.03000205, 0.02883498, 0.02859697, 0.02862027],\n",
              "       [0.02244661, 0.02253501, 0.02287052, 0.02243131, 0.90971656],\n",
              "       [0.02880603, 0.02862494, 0.02863139, 0.02888217, 0.88505546],\n",
              "       [0.89865162, 0.02512041, 0.02508398, 0.0252418 , 0.02590218],\n",
              "       [0.02859321, 0.02857411, 0.02862137, 0.02861252, 0.88559879],\n",
              "       [0.02022031, 0.02029313, 0.91936896, 0.02006402, 0.02005359],\n",
              "       [0.83825728, 0.04038281, 0.04000868, 0.04126664, 0.04008459],\n",
              "       [0.02590467, 0.02500336, 0.02519674, 0.02723659, 0.89665863],\n",
              "       [0.06667423, 0.06667662, 0.06667795, 0.06741883, 0.73255237],\n",
              "       [0.10001849, 0.10002436, 0.1000276 , 0.59989725, 0.1000323 ],\n",
              "       [0.06667101, 0.73330957, 0.06667315, 0.06667202, 0.06667425],\n",
              "       [0.2       , 0.2       , 0.2       , 0.2       , 0.2       ],\n",
              "       [0.10000173, 0.59849124, 0.10150203, 0.10000207, 0.10000293],\n",
              "       [0.73233159, 0.06765828, 0.06666996, 0.06666939, 0.06667078],\n",
              "       [0.06667101, 0.73330957, 0.06667315, 0.06667202, 0.06667425],\n",
              "       [0.2       , 0.2       , 0.2       , 0.2       , 0.2       ],\n",
              "       [0.10000173, 0.59849124, 0.10150203, 0.10000207, 0.10000293],\n",
              "       [0.10077652, 0.59793166, 0.10120443, 0.1000062 , 0.1000812 ],\n",
              "       [0.10104236, 0.10000872, 0.59892919, 0.10000816, 0.10001156],\n",
              "       [0.10102786, 0.59740948, 0.1006613 , 0.10000155, 0.10089981],\n",
              "       [0.10000662, 0.10000872, 0.59996496, 0.10000815, 0.10001155],\n",
              "       [0.02928186, 0.02857596, 0.88467989, 0.02857565, 0.02888664],\n",
              "       [0.2       , 0.2       , 0.2       , 0.2       , 0.2       ],\n",
              "       [0.05218173, 0.05000719, 0.05087586, 0.05000667, 0.79692856],\n",
              "       [0.2       , 0.2       , 0.2       , 0.2       , 0.2       ],\n",
              "       [0.2       , 0.2       , 0.2       , 0.2       , 0.2       ],\n",
              "       [0.2       , 0.2       , 0.2       , 0.2       , 0.2       ],\n",
              "       [0.2       , 0.2       , 0.2       , 0.2       , 0.2       ],\n",
              "       [0.2       , 0.2       , 0.2       , 0.2       , 0.2       ],\n",
              "       [0.2       , 0.2       , 0.2       , 0.2       , 0.2       ],\n",
              "       [0.10001525, 0.10002009, 0.59991924, 0.10001878, 0.10002664],\n",
              "       [0.0678752 , 0.07285014, 0.06743906, 0.06739856, 0.72443704],\n",
              "       [0.73324268, 0.0666678 , 0.06666797, 0.0667534 , 0.06666815],\n",
              "       [0.4245207 , 0.04000651, 0.04000739, 0.45455323, 0.04091217]])"
            ]
          },
          "metadata": {},
          "execution_count": 94
        }
      ]
    },
    {
      "cell_type": "code",
      "source": [
        "lda_dtf=lda.fit_transform(dtm)"
      ],
      "metadata": {
        "id": "3aFAGrpb213e"
      },
      "execution_count": 95,
      "outputs": []
    },
    {
      "cell_type": "code",
      "source": [
        "import numpy as np\n",
        "sorting=np.argsort(lda.components_)[:,::-1]\n",
        "features=np.array(vect.get_feature_names_out())"
      ],
      "metadata": {
        "id": "kGkfNRDL3ddr"
      },
      "execution_count": 96,
      "outputs": []
    },
    {
      "cell_type": "code",
      "source": [
        "import mglearn\n",
        "mglearn.tools.print_topics(topics=range(5), feature_names=features,\n",
        "sorting=sorting, topics_per_chunk=5, n_words=10)"
      ],
      "metadata": {
        "colab": {
          "base_uri": "https://localhost:8080/"
        },
        "id": "7PB2TCok3ida",
        "outputId": "f250f7c9-2638-406a-cf63-c2c476857832"
      },
      "execution_count": 97,
      "outputs": [
        {
          "output_type": "stream",
          "name": "stdout",
          "text": [
            "topic 0       topic 1       topic 2       topic 3       topic 4       \n",
            "--------      --------      --------      --------      --------      \n",
            "agreement     eclipse       party         party         party         \n",
            "domain        trademarks    eclipse       date          parties       \n",
            "names         title         right         ownership     trademarks    \n",
            "shall         party         condition     agrees        project       \n",
            "parties       rights        term          trademark     initiation    \n",
            "trademarks    assignment    shall         written       accommodate   \n",
            "eclipse       right         remedies      provided      contractors   \n",
            "waiver        accordance    waiver        perfected     independent   \n",
            "entire        page          use           dated         agree         \n",
            "transfer      agreement     warranties    signature     headings      \n",
            "\n",
            "\n"
          ]
        }
      ]
    },
    {
      "cell_type": "markdown",
      "source": [
        "# this code is printing the first two sentences of the top four documents based on their representation in the third topic of the LDA matrix."
      ],
      "metadata": {
        "id": "_XOe-K8dKWnM"
      }
    },
    {
      "cell_type": "code",
      "source": [
        "# Sorting documents based on the third topic in descending order\n",
        "Agreement_Topic=np.argsort(lda_dtf[:,2])[::-1]\n",
        "\n",
        "# Printing the first four documents with their first two sentences\n",
        "for i in Agreement_Topic[:4]:  #This selects the first four indices from the sorted list.\n",
        "  print(\".\".join(dubby[i].split(\".\")[:2]) + \".\\n\") #the loop then iterates over these indices (i) and prints the first two sentences of each document. It does this by splitting the text in each document (dubby[i]) by periods (.),\n",
        "                                                     #taking the first two elements, and joining them back with a period."
      ],
      "metadata": {
        "colab": {
          "base_uri": "https://localhost:8080/"
        },
        "id": "Ssma3h1333hH",
        "outputId": "a9fbdd1b-f6f6-45cb-9341-2432a19d96f6"
      },
      "execution_count": 98,
      "outputs": [
        {
          "output_type": "stream",
          "name": "stdout",
          "text": [
            " http www eclipse org legal logo guidelines php as may be amended from time to time the .\n",
            "\n",
            "formally approves the Project the Project Effective Date Party shall cause any related .\n",
            "\n",
            " mail return receipt requested postage prepaid to a party at the address set .\n",
            "\n",
            " i Non Exclusive Remedies The rights and remedies of a party set forth .\n",
            "\n"
          ]
        }
      ]
    },
    {
      "cell_type": "code",
      "source": [
        "Domain_Name_Topic=np.argsort(lda_dtf[:,4])[::-1]\n",
        "for i in Domain_Name_Topic[:4]:\n",
        "    print(\".\".join(dubby[i].split(\".\")[:2]) + \".\\n\")"
      ],
      "metadata": {
        "colab": {
          "base_uri": "https://localhost:8080/"
        },
        "id": "9KGi0irs9Ey3",
        "outputId": "11903f35-842a-4db5-9dda-e0d584874fe0"
      },
      "execution_count": 99,
      "outputs": [
        {
          "output_type": "stream",
          "name": "stdout",
          "text": [
            "Each party represents and warrants that it has fu ll right power and authority to enter into this .\n",
            "\n",
            "and delivery of documents in recordable form or testifying as to any material fact or thing and .\n",
            "\n",
            "any official of any other country empowered to issue trademark registrations to record this .\n",
            "\n",
            "Party hereby authorizes the Commissioner of Patents and Trademarks of the United States and .\n",
            "\n"
          ]
        }
      ]
    }
  ],
  "metadata": {
    "colab": {
      "provenance": []
    },
    "kernelspec": {
      "display_name": "Python 3",
      "name": "python3"
    },
    "language_info": {
      "name": "python"
    }
  },
  "nbformat": 4,
  "nbformat_minor": 0
}